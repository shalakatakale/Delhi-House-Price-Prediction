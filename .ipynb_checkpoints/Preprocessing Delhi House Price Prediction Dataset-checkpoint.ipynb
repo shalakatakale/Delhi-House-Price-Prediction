{
 "cells": [
  {
   "cell_type": "markdown",
   "id": "7cb8b45c",
   "metadata": {},
   "source": [
    "# House Price Prediction using Machine Learning"
   ]
  },
  {
   "cell_type": "code",
   "execution_count": 1,
   "id": "bce99081",
   "metadata": {},
   "outputs": [],
   "source": [
    "import numpy as np\n",
    "import pandas as pd"
   ]
  },
  {
   "cell_type": "code",
   "execution_count": 2,
   "id": "84e8708f",
   "metadata": {},
   "outputs": [
    {
     "data": {
      "text/html": [
       "<div>\n",
       "<style scoped>\n",
       "    .dataframe tbody tr th:only-of-type {\n",
       "        vertical-align: middle;\n",
       "    }\n",
       "\n",
       "    .dataframe tbody tr th {\n",
       "        vertical-align: top;\n",
       "    }\n",
       "\n",
       "    .dataframe thead th {\n",
       "        text-align: right;\n",
       "    }\n",
       "</style>\n",
       "<table border=\"1\" class=\"dataframe\">\n",
       "  <thead>\n",
       "    <tr style=\"text-align: right;\">\n",
       "      <th></th>\n",
       "      <th>BHK</th>\n",
       "      <th>Bathroom</th>\n",
       "      <th>Parking</th>\n",
       "      <th>Area</th>\n",
       "      <th>Per_Sqft</th>\n",
       "      <th>Furnishing</th>\n",
       "      <th>Status</th>\n",
       "      <th>Transaction</th>\n",
       "      <th>Type</th>\n",
       "      <th>Locality</th>\n",
       "      <th>Price</th>\n",
       "    </tr>\n",
       "  </thead>\n",
       "  <tbody>\n",
       "    <tr>\n",
       "      <th>0</th>\n",
       "      <td>3</td>\n",
       "      <td>2.0</td>\n",
       "      <td>1.0</td>\n",
       "      <td>800.0</td>\n",
       "      <td>NaN</td>\n",
       "      <td>Semi-Furnished</td>\n",
       "      <td>Ready_to_move</td>\n",
       "      <td>New_Property</td>\n",
       "      <td>Builder_Floor</td>\n",
       "      <td>Rohini Sector 25</td>\n",
       "      <td>6500000</td>\n",
       "    </tr>\n",
       "    <tr>\n",
       "      <th>1</th>\n",
       "      <td>2</td>\n",
       "      <td>2.0</td>\n",
       "      <td>1.0</td>\n",
       "      <td>750.0</td>\n",
       "      <td>6667.0</td>\n",
       "      <td>Semi-Furnished</td>\n",
       "      <td>Ready_to_move</td>\n",
       "      <td>New_Property</td>\n",
       "      <td>Apartment</td>\n",
       "      <td>J R Designers Floors, Rohini Sector 24</td>\n",
       "      <td>5000000</td>\n",
       "    </tr>\n",
       "    <tr>\n",
       "      <th>2</th>\n",
       "      <td>2</td>\n",
       "      <td>2.0</td>\n",
       "      <td>1.0</td>\n",
       "      <td>950.0</td>\n",
       "      <td>6667.0</td>\n",
       "      <td>Furnished</td>\n",
       "      <td>Ready_to_move</td>\n",
       "      <td>Resale</td>\n",
       "      <td>Apartment</td>\n",
       "      <td>Citizen Apartment, Rohini Sector 13</td>\n",
       "      <td>15500000</td>\n",
       "    </tr>\n",
       "    <tr>\n",
       "      <th>3</th>\n",
       "      <td>2</td>\n",
       "      <td>2.0</td>\n",
       "      <td>1.0</td>\n",
       "      <td>600.0</td>\n",
       "      <td>6667.0</td>\n",
       "      <td>Semi-Furnished</td>\n",
       "      <td>Ready_to_move</td>\n",
       "      <td>Resale</td>\n",
       "      <td>Builder_Floor</td>\n",
       "      <td>Rohini Sector 24</td>\n",
       "      <td>4200000</td>\n",
       "    </tr>\n",
       "    <tr>\n",
       "      <th>4</th>\n",
       "      <td>2</td>\n",
       "      <td>2.0</td>\n",
       "      <td>1.0</td>\n",
       "      <td>650.0</td>\n",
       "      <td>6667.0</td>\n",
       "      <td>Semi-Furnished</td>\n",
       "      <td>Ready_to_move</td>\n",
       "      <td>New_Property</td>\n",
       "      <td>Builder_Floor</td>\n",
       "      <td>Rohini Sector 24 carpet area 650 sqft status R...</td>\n",
       "      <td>6200000</td>\n",
       "    </tr>\n",
       "  </tbody>\n",
       "</table>\n",
       "</div>"
      ],
      "text/plain": [
       "   BHK  Bathroom  Parking   Area  Per_Sqft      Furnishing         Status  \\\n",
       "0    3       2.0      1.0  800.0       NaN  Semi-Furnished  Ready_to_move   \n",
       "1    2       2.0      1.0  750.0    6667.0  Semi-Furnished  Ready_to_move   \n",
       "2    2       2.0      1.0  950.0    6667.0       Furnished  Ready_to_move   \n",
       "3    2       2.0      1.0  600.0    6667.0  Semi-Furnished  Ready_to_move   \n",
       "4    2       2.0      1.0  650.0    6667.0  Semi-Furnished  Ready_to_move   \n",
       "\n",
       "    Transaction           Type  \\\n",
       "0  New_Property  Builder_Floor   \n",
       "1  New_Property      Apartment   \n",
       "2        Resale      Apartment   \n",
       "3        Resale  Builder_Floor   \n",
       "4  New_Property  Builder_Floor   \n",
       "\n",
       "                                            Locality     Price  \n",
       "0                                   Rohini Sector 25   6500000  \n",
       "1             J R Designers Floors, Rohini Sector 24   5000000  \n",
       "2                Citizen Apartment, Rohini Sector 13  15500000  \n",
       "3                                   Rohini Sector 24   4200000  \n",
       "4  Rohini Sector 24 carpet area 650 sqft status R...   6200000  "
      ]
     },
     "execution_count": 2,
     "metadata": {},
     "output_type": "execute_result"
    }
   ],
   "source": [
    "df = pd.read_csv(\"MagicBricks.csv\")\n",
    "df.head()"
   ]
  },
  {
   "cell_type": "code",
   "execution_count": 3,
   "id": "c883b07a",
   "metadata": {},
   "outputs": [
    {
     "name": "stdout",
     "output_type": "stream",
     "text": [
      "<class 'pandas.core.frame.DataFrame'>\n",
      "RangeIndex: 1259 entries, 0 to 1258\n",
      "Data columns (total 11 columns):\n",
      " #   Column       Non-Null Count  Dtype  \n",
      "---  ------       --------------  -----  \n",
      " 0   BHK          1259 non-null   int64  \n",
      " 1   Bathroom     1257 non-null   float64\n",
      " 2   Parking      1226 non-null   float64\n",
      " 3   Area         1259 non-null   float64\n",
      " 4   Per_Sqft     1018 non-null   float64\n",
      " 5   Furnishing   1254 non-null   object \n",
      " 6   Status       1259 non-null   object \n",
      " 7   Transaction  1259 non-null   object \n",
      " 8   Type         1254 non-null   object \n",
      " 9   Locality     1259 non-null   object \n",
      " 10  Price        1259 non-null   int64  \n",
      "dtypes: float64(4), int64(2), object(5)\n",
      "memory usage: 108.3+ KB\n"
     ]
    }
   ],
   "source": [
    "df.info()"
   ]
  },
  {
   "cell_type": "code",
   "execution_count": 4,
   "id": "34e1cafa",
   "metadata": {},
   "outputs": [
    {
     "data": {
      "text/plain": [
       "BHK              0\n",
       "Bathroom         2\n",
       "Parking         33\n",
       "Area             0\n",
       "Per_Sqft       241\n",
       "Furnishing       5\n",
       "Status           0\n",
       "Transaction      0\n",
       "Type             5\n",
       "Locality         0\n",
       "Price            0\n",
       "dtype: int64"
      ]
     },
     "execution_count": 4,
     "metadata": {},
     "output_type": "execute_result"
    }
   ],
   "source": [
    "df.isnull().sum()"
   ]
  },
  {
   "cell_type": "code",
   "execution_count": 5,
   "id": "91276798",
   "metadata": {},
   "outputs": [
    {
     "data": {
      "text/plain": [
       "(1259, 11)"
      ]
     },
     "execution_count": 5,
     "metadata": {},
     "output_type": "execute_result"
    }
   ],
   "source": [
    "df.shape"
   ]
  },
  {
   "cell_type": "code",
   "execution_count": 6,
   "id": "82d942c7",
   "metadata": {},
   "outputs": [
    {
     "data": {
      "text/html": [
       "<div>\n",
       "<style scoped>\n",
       "    .dataframe tbody tr th:only-of-type {\n",
       "        vertical-align: middle;\n",
       "    }\n",
       "\n",
       "    .dataframe tbody tr th {\n",
       "        vertical-align: top;\n",
       "    }\n",
       "\n",
       "    .dataframe thead th {\n",
       "        text-align: right;\n",
       "    }\n",
       "</style>\n",
       "<table border=\"1\" class=\"dataframe\">\n",
       "  <thead>\n",
       "    <tr style=\"text-align: right;\">\n",
       "      <th></th>\n",
       "      <th>BHK</th>\n",
       "      <th>Bathroom</th>\n",
       "      <th>Parking</th>\n",
       "      <th>Area</th>\n",
       "      <th>Per_Sqft</th>\n",
       "      <th>Furnishing</th>\n",
       "      <th>Status</th>\n",
       "      <th>Transaction</th>\n",
       "      <th>Type</th>\n",
       "      <th>Locality</th>\n",
       "      <th>Price</th>\n",
       "    </tr>\n",
       "  </thead>\n",
       "  <tbody>\n",
       "    <tr>\n",
       "      <th>84</th>\n",
       "      <td>3</td>\n",
       "      <td>3.0</td>\n",
       "      <td>1.0</td>\n",
       "      <td>1540.0</td>\n",
       "      <td>3524.0</td>\n",
       "      <td>Semi-Furnished</td>\n",
       "      <td>Ready_to_move</td>\n",
       "      <td>Resale</td>\n",
       "      <td>Apartment</td>\n",
       "      <td>Nav Kairali Apartment, Dwarka Sector 3</td>\n",
       "      <td>14500000</td>\n",
       "    </tr>\n",
       "    <tr>\n",
       "      <th>92</th>\n",
       "      <td>3</td>\n",
       "      <td>3.0</td>\n",
       "      <td>2.0</td>\n",
       "      <td>1450.0</td>\n",
       "      <td>NaN</td>\n",
       "      <td>Semi-Furnished</td>\n",
       "      <td>Ready_to_move</td>\n",
       "      <td>New_Property</td>\n",
       "      <td>Builder_Floor</td>\n",
       "      <td>Lajpat Nagar 3</td>\n",
       "      <td>30000000</td>\n",
       "    </tr>\n",
       "    <tr>\n",
       "      <th>110</th>\n",
       "      <td>2</td>\n",
       "      <td>2.0</td>\n",
       "      <td>1.0</td>\n",
       "      <td>1000.0</td>\n",
       "      <td>20000.0</td>\n",
       "      <td>Furnished</td>\n",
       "      <td>Ready_to_move</td>\n",
       "      <td>Resale</td>\n",
       "      <td>Apartment</td>\n",
       "      <td>Lajpat Nagar 3</td>\n",
       "      <td>20000000</td>\n",
       "    </tr>\n",
       "    <tr>\n",
       "      <th>120</th>\n",
       "      <td>1</td>\n",
       "      <td>NaN</td>\n",
       "      <td>NaN</td>\n",
       "      <td>1500.0</td>\n",
       "      <td>NaN</td>\n",
       "      <td>Unfurnished</td>\n",
       "      <td>Ready_to_move</td>\n",
       "      <td>Resale</td>\n",
       "      <td>Apartment</td>\n",
       "      <td>Lajpat Nagar 2</td>\n",
       "      <td>13500000</td>\n",
       "    </tr>\n",
       "    <tr>\n",
       "      <th>122</th>\n",
       "      <td>3</td>\n",
       "      <td>3.0</td>\n",
       "      <td>4.0</td>\n",
       "      <td>1710.0</td>\n",
       "      <td>NaN</td>\n",
       "      <td>Semi-Furnished</td>\n",
       "      <td>Ready_to_move</td>\n",
       "      <td>New_Property</td>\n",
       "      <td>Builder_Floor</td>\n",
       "      <td>Lajpat Nagar 2</td>\n",
       "      <td>26000000</td>\n",
       "    </tr>\n",
       "    <tr>\n",
       "      <th>...</th>\n",
       "      <td>...</td>\n",
       "      <td>...</td>\n",
       "      <td>...</td>\n",
       "      <td>...</td>\n",
       "      <td>...</td>\n",
       "      <td>...</td>\n",
       "      <td>...</td>\n",
       "      <td>...</td>\n",
       "      <td>...</td>\n",
       "      <td>...</td>\n",
       "      <td>...</td>\n",
       "    </tr>\n",
       "    <tr>\n",
       "      <th>1164</th>\n",
       "      <td>2</td>\n",
       "      <td>2.0</td>\n",
       "      <td>1.0</td>\n",
       "      <td>1300.0</td>\n",
       "      <td>11538.0</td>\n",
       "      <td>Semi-Furnished</td>\n",
       "      <td>Ready_to_move</td>\n",
       "      <td>Resale</td>\n",
       "      <td>Apartment</td>\n",
       "      <td>Yamuna Apartment, Alaknanda</td>\n",
       "      <td>15000000</td>\n",
       "    </tr>\n",
       "    <tr>\n",
       "      <th>1165</th>\n",
       "      <td>2</td>\n",
       "      <td>2.0</td>\n",
       "      <td>1.0</td>\n",
       "      <td>1200.0</td>\n",
       "      <td>11538.0</td>\n",
       "      <td>Unfurnished</td>\n",
       "      <td>Ready_to_move</td>\n",
       "      <td>Resale</td>\n",
       "      <td>Apartment</td>\n",
       "      <td>Nilgiri Apartment, Alaknanda</td>\n",
       "      <td>14300000</td>\n",
       "    </tr>\n",
       "    <tr>\n",
       "      <th>1166</th>\n",
       "      <td>3</td>\n",
       "      <td>2.0</td>\n",
       "      <td>1.0</td>\n",
       "      <td>1300.0</td>\n",
       "      <td>11538.0</td>\n",
       "      <td>Unfurnished</td>\n",
       "      <td>Ready_to_move</td>\n",
       "      <td>Resale</td>\n",
       "      <td>Apartment</td>\n",
       "      <td>Nilgiri Apartment, Alaknanda</td>\n",
       "      <td>18500000</td>\n",
       "    </tr>\n",
       "    <tr>\n",
       "      <th>1167</th>\n",
       "      <td>3</td>\n",
       "      <td>3.0</td>\n",
       "      <td>1.0</td>\n",
       "      <td>1400.0</td>\n",
       "      <td>11538.0</td>\n",
       "      <td>Furnished</td>\n",
       "      <td>Ready_to_move</td>\n",
       "      <td>Resale</td>\n",
       "      <td>Apartment</td>\n",
       "      <td>Tara Apartment, Alaknanda carpet area 1400 sqf...</td>\n",
       "      <td>19000000</td>\n",
       "    </tr>\n",
       "    <tr>\n",
       "      <th>1168</th>\n",
       "      <td>3</td>\n",
       "      <td>3.0</td>\n",
       "      <td>1.0</td>\n",
       "      <td>1400.0</td>\n",
       "      <td>11538.0</td>\n",
       "      <td>Semi-Furnished</td>\n",
       "      <td>Ready_to_move</td>\n",
       "      <td>Resale</td>\n",
       "      <td>Apartment</td>\n",
       "      <td>Alaknanda</td>\n",
       "      <td>19000000</td>\n",
       "    </tr>\n",
       "  </tbody>\n",
       "</table>\n",
       "<p>83 rows × 11 columns</p>\n",
       "</div>"
      ],
      "text/plain": [
       "      BHK  Bathroom  Parking    Area  Per_Sqft      Furnishing         Status  \\\n",
       "84      3       3.0      1.0  1540.0    3524.0  Semi-Furnished  Ready_to_move   \n",
       "92      3       3.0      2.0  1450.0       NaN  Semi-Furnished  Ready_to_move   \n",
       "110     2       2.0      1.0  1000.0   20000.0       Furnished  Ready_to_move   \n",
       "120     1       NaN      NaN  1500.0       NaN     Unfurnished  Ready_to_move   \n",
       "122     3       3.0      4.0  1710.0       NaN  Semi-Furnished  Ready_to_move   \n",
       "...   ...       ...      ...     ...       ...             ...            ...   \n",
       "1164    2       2.0      1.0  1300.0   11538.0  Semi-Furnished  Ready_to_move   \n",
       "1165    2       2.0      1.0  1200.0   11538.0     Unfurnished  Ready_to_move   \n",
       "1166    3       2.0      1.0  1300.0   11538.0     Unfurnished  Ready_to_move   \n",
       "1167    3       3.0      1.0  1400.0   11538.0       Furnished  Ready_to_move   \n",
       "1168    3       3.0      1.0  1400.0   11538.0  Semi-Furnished  Ready_to_move   \n",
       "\n",
       "       Transaction           Type  \\\n",
       "84          Resale      Apartment   \n",
       "92    New_Property  Builder_Floor   \n",
       "110         Resale      Apartment   \n",
       "120         Resale      Apartment   \n",
       "122   New_Property  Builder_Floor   \n",
       "...            ...            ...   \n",
       "1164        Resale      Apartment   \n",
       "1165        Resale      Apartment   \n",
       "1166        Resale      Apartment   \n",
       "1167        Resale      Apartment   \n",
       "1168        Resale      Apartment   \n",
       "\n",
       "                                               Locality     Price  \n",
       "84               Nav Kairali Apartment, Dwarka Sector 3  14500000  \n",
       "92                                       Lajpat Nagar 3  30000000  \n",
       "110                                      Lajpat Nagar 3  20000000  \n",
       "120                                      Lajpat Nagar 2  13500000  \n",
       "122                                      Lajpat Nagar 2  26000000  \n",
       "...                                                 ...       ...  \n",
       "1164                        Yamuna Apartment, Alaknanda  15000000  \n",
       "1165                       Nilgiri Apartment, Alaknanda  14300000  \n",
       "1166                       Nilgiri Apartment, Alaknanda  18500000  \n",
       "1167  Tara Apartment, Alaknanda carpet area 1400 sqf...  19000000  \n",
       "1168                                          Alaknanda  19000000  \n",
       "\n",
       "[83 rows x 11 columns]"
      ]
     },
     "execution_count": 6,
     "metadata": {},
     "output_type": "execute_result"
    }
   ],
   "source": [
    "# Selecting duplicate rows based on first occurence based on all columns\n",
    "duplicate = df[df.duplicated()]\n",
    "duplicate"
   ]
  },
  {
   "cell_type": "code",
   "execution_count": 7,
   "id": "2e577266",
   "metadata": {},
   "outputs": [
    {
     "data": {
      "text/plain": [
       "(1176, 11)"
      ]
     },
     "execution_count": 7,
     "metadata": {},
     "output_type": "execute_result"
    }
   ],
   "source": [
    "# Drop the above 83 duplicate rows\n",
    "housing=df.drop_duplicates()\n",
    "housing.shape"
   ]
  },
  {
   "cell_type": "markdown",
   "id": "79c30692",
   "metadata": {},
   "source": [
    "## Exploratory Data Analysis"
   ]
  },
  {
   "cell_type": "code",
   "execution_count": 8,
   "id": "9963d178",
   "metadata": {},
   "outputs": [],
   "source": [
    "import seaborn as sns\n",
    "%matplotlib inline\n",
    "import matplotlib.pyplot as plt"
   ]
  },
  {
   "cell_type": "markdown",
   "id": "8f0e19fc",
   "metadata": {},
   "source": [
    "### Analysis of Numerical Data"
   ]
  },
  {
   "cell_type": "code",
   "execution_count": 9,
   "id": "caf2121a",
   "metadata": {},
   "outputs": [
    {
     "data": {
      "text/html": [
       "<div>\n",
       "<style scoped>\n",
       "    .dataframe tbody tr th:only-of-type {\n",
       "        vertical-align: middle;\n",
       "    }\n",
       "\n",
       "    .dataframe tbody tr th {\n",
       "        vertical-align: top;\n",
       "    }\n",
       "\n",
       "    .dataframe thead th {\n",
       "        text-align: right;\n",
       "    }\n",
       "</style>\n",
       "<table border=\"1\" class=\"dataframe\">\n",
       "  <thead>\n",
       "    <tr style=\"text-align: right;\">\n",
       "      <th></th>\n",
       "      <th>BHK</th>\n",
       "      <th>Bathroom</th>\n",
       "      <th>Parking</th>\n",
       "      <th>Area</th>\n",
       "      <th>Per_Sqft</th>\n",
       "      <th>Price</th>\n",
       "    </tr>\n",
       "  </thead>\n",
       "  <tbody>\n",
       "    <tr>\n",
       "      <th>BHK</th>\n",
       "      <td>1.000000</td>\n",
       "      <td>0.771053</td>\n",
       "      <td>-0.072551</td>\n",
       "      <td>0.461125</td>\n",
       "      <td>0.179493</td>\n",
       "      <td>0.566039</td>\n",
       "    </tr>\n",
       "    <tr>\n",
       "      <th>Bathroom</th>\n",
       "      <td>0.771053</td>\n",
       "      <td>1.000000</td>\n",
       "      <td>-0.035055</td>\n",
       "      <td>0.554409</td>\n",
       "      <td>0.217231</td>\n",
       "      <td>0.731663</td>\n",
       "    </tr>\n",
       "    <tr>\n",
       "      <th>Parking</th>\n",
       "      <td>-0.072551</td>\n",
       "      <td>-0.035055</td>\n",
       "      <td>1.000000</td>\n",
       "      <td>-0.010964</td>\n",
       "      <td>-0.000116</td>\n",
       "      <td>-0.001833</td>\n",
       "    </tr>\n",
       "    <tr>\n",
       "      <th>Area</th>\n",
       "      <td>0.461125</td>\n",
       "      <td>0.554409</td>\n",
       "      <td>-0.010964</td>\n",
       "      <td>1.000000</td>\n",
       "      <td>0.161889</td>\n",
       "      <td>0.602679</td>\n",
       "    </tr>\n",
       "    <tr>\n",
       "      <th>Per_Sqft</th>\n",
       "      <td>0.179493</td>\n",
       "      <td>0.217231</td>\n",
       "      <td>-0.000116</td>\n",
       "      <td>0.161889</td>\n",
       "      <td>1.000000</td>\n",
       "      <td>0.323747</td>\n",
       "    </tr>\n",
       "    <tr>\n",
       "      <th>Price</th>\n",
       "      <td>0.566039</td>\n",
       "      <td>0.731663</td>\n",
       "      <td>-0.001833</td>\n",
       "      <td>0.602679</td>\n",
       "      <td>0.323747</td>\n",
       "      <td>1.000000</td>\n",
       "    </tr>\n",
       "  </tbody>\n",
       "</table>\n",
       "</div>"
      ],
      "text/plain": [
       "               BHK  Bathroom   Parking      Area  Per_Sqft     Price\n",
       "BHK       1.000000  0.771053 -0.072551  0.461125  0.179493  0.566039\n",
       "Bathroom  0.771053  1.000000 -0.035055  0.554409  0.217231  0.731663\n",
       "Parking  -0.072551 -0.035055  1.000000 -0.010964 -0.000116 -0.001833\n",
       "Area      0.461125  0.554409 -0.010964  1.000000  0.161889  0.602679\n",
       "Per_Sqft  0.179493  0.217231 -0.000116  0.161889  1.000000  0.323747\n",
       "Price     0.566039  0.731663 -0.001833  0.602679  0.323747  1.000000"
      ]
     },
     "execution_count": 9,
     "metadata": {},
     "output_type": "execute_result"
    }
   ],
   "source": [
    "correlation=housing.corr()\n",
    "correlation"
   ]
  },
  {
   "cell_type": "code",
   "execution_count": 10,
   "id": "1b78c7fb",
   "metadata": {},
   "outputs": [
    {
     "data": {
      "text/plain": [
       "Price       1.000000\n",
       "Bathroom    0.731663\n",
       "Area        0.602679\n",
       "BHK         0.566039\n",
       "Per_Sqft    0.323747\n",
       "Parking    -0.001833\n",
       "Name: Price, dtype: float64"
      ]
     },
     "execution_count": 10,
     "metadata": {},
     "output_type": "execute_result"
    }
   ],
   "source": [
    "correlation[\"Price\"].sort_values(ascending=False)"
   ]
  },
  {
   "cell_type": "code",
   "execution_count": 11,
   "id": "a1514733",
   "metadata": {
    "scrolled": true
   },
   "outputs": [
    {
     "name": "stdout",
     "output_type": "stream",
     "text": [
      "Missing values in BHK Column:  0\n",
      "BHK            1174\n",
      "Bathroom       1173\n",
      "Parking        1143\n",
      "Area           1174\n",
      "Per_Sqft        948\n",
      "Furnishing     1169\n",
      "Status         1174\n",
      "Transaction    1174\n",
      "Type           1169\n",
      "Locality       1174\n",
      "Price          1174\n",
      "dtype: int64\n"
     ]
    },
    {
     "data": {
      "image/png": "[encoded data removed]",
      "text/plain": [
       "<Figure size 432x288 with 1 Axes>"
      ]
     },
     "metadata": {
      "needs_background": "light"
     },
     "output_type": "display_data"
    }
   ],
   "source": [
    "# Exploring BHK feature\n",
    "sns.regplot(x=\"BHK\",y=\"Price\",data=housing)\n",
    "print(\"Missing values in BHK Column: \",housing[\"BHK\"].isnull().sum())\n",
    "print(housing[housing[\"BHK\"]<=6].count())\n",
    "# Here 1174/1176 rows have Area less than equal to 6BHK"
   ]
  },
  {
   "cell_type": "code",
   "execution_count": 12,
   "id": "cba6ca00",
   "metadata": {
    "scrolled": true
   },
   "outputs": [
    {
     "name": "stdout",
     "output_type": "stream",
     "text": [
      "Missing values in Bathroom Column:  1\n",
      "BHK            1166\n",
      "Bathroom       1166\n",
      "Parking        1137\n",
      "Area           1166\n",
      "Per_Sqft        940\n",
      "Furnishing     1161\n",
      "Status         1166\n",
      "Transaction    1166\n",
      "Type           1161\n",
      "Locality       1166\n",
      "Price          1166\n",
      "dtype: int64\n"
     ]
    },
    {
     "data": {
      "image/png": "[encoded data removed]",
      "text/plain": [
       "<Figure size 432x288 with 1 Axes>"
      ]
     },
     "metadata": {
      "needs_background": "light"
     },
     "output_type": "display_data"
    }
   ],
   "source": [
    "# Exploring Bathroom feature\n",
    "sns.regplot(x=\"Bathroom\",y=\"Price\",data=housing)\n",
    "print(\"Missing values in Bathroom Column: \" ,housing[\"Bathroom\"].isnull().sum())\n",
    "print(housing[housing[\"Bathroom\"]<=5].count())\n",
    "# Here 1166/1176 rows have Area less than equal to 5 Bathrooms"
   ]
  },
  {
   "cell_type": "code",
   "execution_count": 13,
   "id": "4f586e40",
   "metadata": {},
   "outputs": [
    {
     "name": "stdout",
     "output_type": "stream",
     "text": [
      "Missing values in Parking Column:  31\n",
      "BHK            1133\n",
      "Bathroom       1133\n",
      "Parking        1133\n",
      "Area           1133\n",
      "Per_Sqft        927\n",
      "Furnishing     1132\n",
      "Status         1133\n",
      "Transaction    1133\n",
      "Type           1132\n",
      "Locality       1133\n",
      "Price          1133\n",
      "dtype: int64\n"
     ]
    },
    {
     "data": {
      "image/png": "[encoded data removed]",
      "text/plain": [
       "<Figure size 432x288 with 1 Axes>"
      ]
     },
     "metadata": {
      "needs_background": "light"
     },
     "output_type": "display_data"
    }
   ],
   "source": [
    "# Exploring Parking feature\n",
    "sns.regplot(x=\"Parking\",y=\"Price\",data=housing)\n",
    "print(\"Missing values in Parking Column: \" ,housing[\"Parking\"].isnull().sum())\n",
    "print(housing[housing[\"Parking\"]<=5].count())\n",
    "# Here 1133/1176 rows have Area less than equal to 5 Parkings"
   ]
  },
  {
   "cell_type": "code",
   "execution_count": 14,
   "id": "b5f39dcc",
   "metadata": {},
   "outputs": [
    {
     "name": "stderr",
     "output_type": "stream",
     "text": [
      "c:\\users\\shala\\appdata\\local\\programs\\python\\python39\\lib\\site-packages\\seaborn\\_decorators.py:36: FutureWarning: Pass the following variable as a keyword arg: x. From version 0.12, the only valid positional argument will be `data`, and passing other arguments without an explicit keyword will result in an error or misinterpretation.\n",
      "  warnings.warn(\n"
     ]
    },
    {
     "data": {
      "text/plain": [
       "<AxesSubplot:xlabel='Parking', ylabel='count'>"
      ]
     },
     "execution_count": 14,
     "metadata": {},
     "output_type": "execute_result"
    },
    {
     "data": {
      "image/png": "[encoded data removed]",
      "text/plain": [
       "<Figure size 432x288 with 1 Axes>"
      ]
     },
     "metadata": {
      "needs_background": "light"
     },
     "output_type": "display_data"
    }
   ],
   "source": [
    "sns.countplot(housing[\"Parking\"])"
   ]
  },
  {
   "cell_type": "code",
   "execution_count": 15,
   "id": "120b49f9",
   "metadata": {},
   "outputs": [
    {
     "name": "stdout",
     "output_type": "stream",
     "text": [
      "Missing values in Area Column:  0\n",
      "BHK            1112\n",
      "Bathroom       1111\n",
      "Parking        1082\n",
      "Area           1112\n",
      "Per_Sqft        889\n",
      "Furnishing     1107\n",
      "Status         1112\n",
      "Transaction    1112\n",
      "Type           1107\n",
      "Locality       1112\n",
      "Price          1112\n",
      "dtype: int64\n"
     ]
    },
    {
     "data": {
      "image/png": "[encoded data removed]",
      "text/plain": [
       "<Figure size 432x288 with 1 Axes>"
      ]
     },
     "metadata": {
      "needs_background": "light"
     },
     "output_type": "display_data"
    }
   ],
   "source": [
    "# Exploring Area feature\n",
    "sns.regplot(x=\"Area\",y=\"Price\",data=housing)\n",
    "print(\"Missing values in Area Column: \" ,housing[\"Area\"].isnull().sum())\n",
    "print(housing[housing[\"Area\"]<=3000].count())\n",
    "# Here 1174/1176 rows have Area less than equal to 3000"
   ]
  },
  {
   "cell_type": "markdown",
   "id": "ad3a1303",
   "metadata": {},
   "source": [
    "### Analysis of Categorical Data"
   ]
  },
  {
   "cell_type": "code",
   "execution_count": 16,
   "id": "200eecca",
   "metadata": {},
   "outputs": [
    {
     "name": "stdout",
     "output_type": "stream",
     "text": [
      "Missing values in Transaction Column:  0\n"
     ]
    },
    {
     "data": {
      "text/plain": [
       "Resale          741\n",
       "New_Property    435\n",
       "Name: Transaction, dtype: int64"
      ]
     },
     "execution_count": 16,
     "metadata": {},
     "output_type": "execute_result"
    }
   ],
   "source": [
    "# Exploring Transaction feature\n",
    "print(\"Missing values in Transaction Column: \" ,housing[\"Transaction\"].isnull().sum())\n",
    "housing[\"Transaction\"].value_counts()"
   ]
  },
  {
   "cell_type": "code",
   "execution_count": 17,
   "id": "584d0082",
   "metadata": {},
   "outputs": [
    {
     "name": "stdout",
     "output_type": "stream",
     "text": [
      "Missing values in Status Column:  0\n"
     ]
    },
    {
     "data": {
      "text/plain": [
       "Ready_to_move    1115\n",
       "Almost_ready       61\n",
       "Name: Status, dtype: int64"
      ]
     },
     "execution_count": 17,
     "metadata": {},
     "output_type": "execute_result"
    }
   ],
   "source": [
    "# Exploring Status feature\n",
    "print(\"Missing values in Status Column: \" ,housing[\"Status\"].isnull().sum())\n",
    "housing[\"Status\"].value_counts()"
   ]
  },
  {
   "cell_type": "code",
   "execution_count": 18,
   "id": "8800927c",
   "metadata": {},
   "outputs": [
    {
     "name": "stdout",
     "output_type": "stream",
     "text": [
      "Missing values in Furnishing Column:  5\n"
     ]
    },
    {
     "data": {
      "text/plain": [
       "Semi-Furnished    667\n",
       "Unfurnished       330\n",
       "Furnished         174\n",
       "Name: Furnishing, dtype: int64"
      ]
     },
     "execution_count": 18,
     "metadata": {},
     "output_type": "execute_result"
    }
   ],
   "source": [
    "# Exploring Furnishing feature\n",
    "print(\"Missing values in Furnishing Column: \" ,housing[\"Furnishing\"].isnull().sum())\n",
    "housing[\"Furnishing\"].value_counts()"
   ]
  },
  {
   "cell_type": "code",
   "execution_count": 19,
   "id": "7ffefb30",
   "metadata": {},
   "outputs": [
    {
     "name": "stdout",
     "output_type": "stream",
     "text": [
      "Missing values in Type Column:  5\n"
     ]
    },
    {
     "data": {
      "text/plain": [
       "Builder_Floor    643\n",
       "Apartment        528\n",
       "Name: Type, dtype: int64"
      ]
     },
     "execution_count": 19,
     "metadata": {},
     "output_type": "execute_result"
    }
   ],
   "source": [
    "# Exploring Type feature\n",
    "print(\"Missing values in Type Column: \" ,housing[\"Type\"].isnull().sum())\n",
    "housing[\"Type\"].value_counts()"
   ]
  },
  {
   "cell_type": "code",
   "execution_count": 20,
   "id": "37023b1b",
   "metadata": {},
   "outputs": [
    {
     "name": "stdout",
     "output_type": "stream",
     "text": [
      "Missing values in Locality Column:  0\n",
      "Unique values in Locality 365\n"
     ]
    },
    {
     "data": {
      "text/plain": [
       "Lajpat Nagar 3                                                                                                                                                                                                                                                                                                                                                                                                                                                                                                                                                                                                                                                                                                                               32\n",
       "Lajpat Nagar 2                                                                                                                                                                                                                                                                                                                                                                                                                                                                                                                                                                                                                                                                                                                               30\n",
       "Kailash Colony, Greater Kailash                                                                                                                                                                                                                                                                                                                                                                                                                                                                                                                                                                                                                                                                                                              30\n",
       "Yamuna Vihar, Shahdara                                                                                                                                                                                                                                                                                                                                                                                                                                                                                                                                                                                                                                                                                                                       29\n",
       "J R Designers Floors, Rohini Sector 24                                                                                                                                                                                                                                                                                                                                                                                                                                                                                                                                                                                                                                                                                                       28\n",
       "                                                                                                                                                                                                                                                                                                                                                                                                                                                                                                                                                                                                                                                                                                                                             ..\n",
       "Rohini Sector 19                                                                                                                                                                                                                                                                                                                                                                                                                                                                                                                                                                                                                                                                                                                              1\n",
       "Kushwaha Homes, Uttam Nagar                                                                                                                                                                                                                                                                                                                                                                                                                                                                                                                                                                                                                                                                                                                   1\n",
       "Deshbandhu Apartments, Kalkaji carpet area 1300 sqft status Ready to Move floor 3 out of 4 floors transaction Resale furnishing Unfurnished facing North - East overlooking Garden/Park, Main Road society Deshbandhu Apartments car parking 1 Covered, 1 Open bathroom 2 balcony 2 ownership Freehold Third Floor with terrace 3 bhk builder floor apartment with 2 attached bathrooms located in kalkaji Deshbandu apartment . all water and electrical connections installed, very spacious drawing room , 2 balconies in front and rear each dedicated parking spot for 1 car. extra parking space available for additional cars, Immediately for sale , read more Contact Agent View Phone No. Share Feedback Agent Bhawani Realtors     1\n",
       "Sarita Vihar Pocket F                                                                                                                                                                                                                                                                                                                                                                                                                                                                                                                                                                                                                                                                                                                         1\n",
       "DDA Flats Sector 14, Dwarka Sector 14                                                                                                                                                                                                                                                                                                                                                                                                                                                                                                                                                                                                                                                                                                         1\n",
       "Name: Locality, Length: 365, dtype: int64"
      ]
     },
     "execution_count": 20,
     "metadata": {},
     "output_type": "execute_result"
    }
   ],
   "source": [
    "# Exploring Locality feature\n",
    "print(\"Missing values in Locality Column: \",housing[\"Locality\"].isnull().sum())\n",
    "print(\"Unique values in Locality\", housing[\"Locality\"].nunique())\n",
    "housing[\"Locality\"].value_counts()"
   ]
  },
  {
   "cell_type": "code",
   "execution_count": 21,
   "id": "c952182d",
   "metadata": {},
   "outputs": [
    {
     "name": "stdout",
     "output_type": "stream",
     "text": [
      "Missing values in Per_Sqft Column:  227\n"
     ]
    }
   ],
   "source": [
    "print(\"Missing values in Per_Sqft Column: \",housing[\"Per_Sqft\"].isnull().sum())"
   ]
  },
  {
   "cell_type": "markdown",
   "id": "ec26fc58",
   "metadata": {},
   "source": [
    "### Dealing with missing values"
   ]
  },
  {
   "cell_type": "code",
   "execution_count": 22,
   "id": "eaff77b9",
   "metadata": {},
   "outputs": [
    {
     "name": "stderr",
     "output_type": "stream",
     "text": [
      "c:\\users\\shala\\appdata\\local\\programs\\python\\python39\\lib\\site-packages\\pandas\\core\\series.py:4463: SettingWithCopyWarning: \n",
      "A value is trying to be set on a copy of a slice from a DataFrame\n",
      "\n",
      "See the caveats in the documentation: https://pandas.pydata.org/pandas-docs/stable/user_guide/indexing.html#returning-a-view-versus-a-copy\n",
      "  return super().fillna(\n"
     ]
    }
   ],
   "source": [
    "bathroom_median = housing[\"Bathroom\"].median()\n",
    "housing[\"Bathroom\"].fillna(value=bathroom_median, inplace=True)\n",
    "#housing[\"Bathroom\"]=housing[\"Bathroom\"].fillna(value=bathroom_median)"
   ]
  },
  {
   "cell_type": "code",
   "execution_count": 23,
   "id": "35276d94",
   "metadata": {},
   "outputs": [
    {
     "data": {
      "text/html": [
       "<div>\n",
       "<style scoped>\n",
       "    .dataframe tbody tr th:only-of-type {\n",
       "        vertical-align: middle;\n",
       "    }\n",
       "\n",
       "    .dataframe tbody tr th {\n",
       "        vertical-align: top;\n",
       "    }\n",
       "\n",
       "    .dataframe thead th {\n",
       "        text-align: right;\n",
       "    }\n",
       "</style>\n",
       "<table border=\"1\" class=\"dataframe\">\n",
       "  <thead>\n",
       "    <tr style=\"text-align: right;\">\n",
       "      <th></th>\n",
       "      <th>BHK</th>\n",
       "      <th>Bathroom</th>\n",
       "      <th>Parking</th>\n",
       "      <th>Area</th>\n",
       "      <th>Per_Sqft</th>\n",
       "      <th>Furnishing</th>\n",
       "      <th>Status</th>\n",
       "      <th>Transaction</th>\n",
       "      <th>Type</th>\n",
       "      <th>Locality</th>\n",
       "      <th>Price</th>\n",
       "    </tr>\n",
       "  </thead>\n",
       "  <tbody>\n",
       "  </tbody>\n",
       "</table>\n",
       "</div>"
      ],
      "text/plain": [
       "Empty DataFrame\n",
       "Columns: [BHK, Bathroom, Parking, Area, Per_Sqft, Furnishing, Status, Transaction, Type, Locality, Price]\n",
       "Index: []"
      ]
     },
     "execution_count": 23,
     "metadata": {},
     "output_type": "execute_result"
    }
   ],
   "source": [
    "housing[housing['Bathroom'].isnull()]"
   ]
  },
  {
   "cell_type": "code",
   "execution_count": 24,
   "id": "fbacf832",
   "metadata": {},
   "outputs": [
    {
     "data": {
      "text/plain": [
       "0.20579420579451835"
      ]
     },
     "execution_count": 24,
     "metadata": {},
     "output_type": "execute_result"
    }
   ],
   "source": [
    "# Per_Sqft has over 200 missing values\n",
    "compare = (housing['Price']/housing['Area'])-housing['Per_Sqft']\n",
    "compare.median()"
   ]
  },
  {
   "cell_type": "code",
   "execution_count": 25,
   "id": "9485b8ec",
   "metadata": {},
   "outputs": [
    {
     "name": "stderr",
     "output_type": "stream",
     "text": [
      "c:\\users\\shala\\appdata\\local\\programs\\python\\python39\\lib\\site-packages\\pandas\\core\\series.py:4463: SettingWithCopyWarning: \n",
      "A value is trying to be set on a copy of a slice from a DataFrame\n",
      "\n",
      "See the caveats in the documentation: https://pandas.pydata.org/pandas-docs/stable/user_guide/indexing.html#returning-a-view-versus-a-copy\n",
      "  return super().fillna(\n"
     ]
    }
   ],
   "source": [
    "# Use (housing['Price']/housing['Area']) to fill null values in Per_Sqft column\n",
    "housing[\"Per_Sqft\"].fillna(value=(housing['Price']/housing['Area']),inplace=True)\n"
   ]
  },
  {
   "cell_type": "code",
   "execution_count": 26,
   "id": "e8f00a79",
   "metadata": {},
   "outputs": [
    {
     "data": {
      "text/html": [
       "<div>\n",
       "<style scoped>\n",
       "    .dataframe tbody tr th:only-of-type {\n",
       "        vertical-align: middle;\n",
       "    }\n",
       "\n",
       "    .dataframe tbody tr th {\n",
       "        vertical-align: top;\n",
       "    }\n",
       "\n",
       "    .dataframe thead th {\n",
       "        text-align: right;\n",
       "    }\n",
       "</style>\n",
       "<table border=\"1\" class=\"dataframe\">\n",
       "  <thead>\n",
       "    <tr style=\"text-align: right;\">\n",
       "      <th></th>\n",
       "      <th>BHK</th>\n",
       "      <th>Bathroom</th>\n",
       "      <th>Parking</th>\n",
       "      <th>Area</th>\n",
       "      <th>Per_Sqft</th>\n",
       "      <th>Furnishing</th>\n",
       "      <th>Status</th>\n",
       "      <th>Transaction</th>\n",
       "      <th>Type</th>\n",
       "      <th>Locality</th>\n",
       "      <th>Price</th>\n",
       "    </tr>\n",
       "  </thead>\n",
       "  <tbody>\n",
       "  </tbody>\n",
       "</table>\n",
       "</div>"
      ],
      "text/plain": [
       "Empty DataFrame\n",
       "Columns: [BHK, Bathroom, Parking, Area, Per_Sqft, Furnishing, Status, Transaction, Type, Locality, Price]\n",
       "Index: []"
      ]
     },
     "execution_count": 26,
     "metadata": {},
     "output_type": "execute_result"
    }
   ],
   "source": [
    "housing[housing['Per_Sqft'].isnull()]"
   ]
  },
  {
   "cell_type": "code",
   "execution_count": 27,
   "id": "b4b48206",
   "metadata": {},
   "outputs": [
    {
     "name": "stderr",
     "output_type": "stream",
     "text": [
      "<ipython-input-27-ba10c7408607>:3: SettingWithCopyWarning: \n",
      "A value is trying to be set on a copy of a slice from a DataFrame\n",
      "\n",
      "See the caveats in the documentation: https://pandas.pydata.org/pandas-docs/stable/user_guide/indexing.html#returning-a-view-versus-a-copy\n",
      "  housing.sort_values(by=\"Locality\",axis=0,inplace=True)\n"
     ]
    },
    {
     "data": {
      "text/html": [
       "<div>\n",
       "<style scoped>\n",
       "    .dataframe tbody tr th:only-of-type {\n",
       "        vertical-align: middle;\n",
       "    }\n",
       "\n",
       "    .dataframe tbody tr th {\n",
       "        vertical-align: top;\n",
       "    }\n",
       "\n",
       "    .dataframe thead th {\n",
       "        text-align: right;\n",
       "    }\n",
       "</style>\n",
       "<table border=\"1\" class=\"dataframe\">\n",
       "  <thead>\n",
       "    <tr style=\"text-align: right;\">\n",
       "      <th></th>\n",
       "      <th>BHK</th>\n",
       "      <th>Bathroom</th>\n",
       "      <th>Parking</th>\n",
       "      <th>Area</th>\n",
       "      <th>Per_Sqft</th>\n",
       "      <th>Furnishing</th>\n",
       "      <th>Status</th>\n",
       "      <th>Transaction</th>\n",
       "      <th>Type</th>\n",
       "      <th>Locality</th>\n",
       "      <th>Price</th>\n",
       "    </tr>\n",
       "  </thead>\n",
       "  <tbody>\n",
       "    <tr>\n",
       "      <th>222</th>\n",
       "      <td>4</td>\n",
       "      <td>3.0</td>\n",
       "      <td>1.0</td>\n",
       "      <td>2700.0</td>\n",
       "      <td>22222.000000</td>\n",
       "      <td>Semi-Furnished</td>\n",
       "      <td>Ready_to_move</td>\n",
       "      <td>New_Property</td>\n",
       "      <td>Builder_Floor</td>\n",
       "      <td>APL Builder Floor, Greater Kailash 1</td>\n",
       "      <td>60000000</td>\n",
       "    </tr>\n",
       "    <tr>\n",
       "      <th>637</th>\n",
       "      <td>3</td>\n",
       "      <td>2.0</td>\n",
       "      <td>1.0</td>\n",
       "      <td>1550.0</td>\n",
       "      <td>8516.129032</td>\n",
       "      <td>Semi-Furnished</td>\n",
       "      <td>Ready_to_move</td>\n",
       "      <td>Resale</td>\n",
       "      <td>Apartment</td>\n",
       "      <td>Aashirwaad Chowk, Dwarka</td>\n",
       "      <td>13200000</td>\n",
       "    </tr>\n",
       "    <tr>\n",
       "      <th>651</th>\n",
       "      <td>3</td>\n",
       "      <td>3.0</td>\n",
       "      <td>1.0</td>\n",
       "      <td>1700.0</td>\n",
       "      <td>10117.647059</td>\n",
       "      <td>Semi-Furnished</td>\n",
       "      <td>Ready_to_move</td>\n",
       "      <td>Resale</td>\n",
       "      <td>Apartment</td>\n",
       "      <td>Aashirwaad Chowk, Dwarka</td>\n",
       "      <td>17200000</td>\n",
       "    </tr>\n",
       "    <tr>\n",
       "      <th>648</th>\n",
       "      <td>3</td>\n",
       "      <td>2.0</td>\n",
       "      <td>1.0</td>\n",
       "      <td>1380.0</td>\n",
       "      <td>10869.565217</td>\n",
       "      <td>Semi-Furnished</td>\n",
       "      <td>Ready_to_move</td>\n",
       "      <td>Resale</td>\n",
       "      <td>Apartment</td>\n",
       "      <td>Aashirwaad Chowk, Dwarka</td>\n",
       "      <td>15000000</td>\n",
       "    </tr>\n",
       "    <tr>\n",
       "      <th>645</th>\n",
       "      <td>3</td>\n",
       "      <td>2.0</td>\n",
       "      <td>1.0</td>\n",
       "      <td>1850.0</td>\n",
       "      <td>8378.378378</td>\n",
       "      <td>Semi-Furnished</td>\n",
       "      <td>Ready_to_move</td>\n",
       "      <td>Resale</td>\n",
       "      <td>Apartment</td>\n",
       "      <td>Aashirwaad Chowk, Dwarka</td>\n",
       "      <td>15500000</td>\n",
       "    </tr>\n",
       "    <tr>\n",
       "      <th>...</th>\n",
       "      <td>...</td>\n",
       "      <td>...</td>\n",
       "      <td>...</td>\n",
       "      <td>...</td>\n",
       "      <td>...</td>\n",
       "      <td>...</td>\n",
       "      <td>...</td>\n",
       "      <td>...</td>\n",
       "      <td>...</td>\n",
       "      <td>...</td>\n",
       "      <td>...</td>\n",
       "    </tr>\n",
       "    <tr>\n",
       "      <th>329</th>\n",
       "      <td>3</td>\n",
       "      <td>2.0</td>\n",
       "      <td>1.0</td>\n",
       "      <td>810.0</td>\n",
       "      <td>7407.407407</td>\n",
       "      <td>Semi-Furnished</td>\n",
       "      <td>Ready_to_move</td>\n",
       "      <td>Resale</td>\n",
       "      <td>Builder_Floor</td>\n",
       "      <td>Yamuna Vihar, Shahdara</td>\n",
       "      <td>6000000</td>\n",
       "    </tr>\n",
       "    <tr>\n",
       "      <th>331</th>\n",
       "      <td>2</td>\n",
       "      <td>1.0</td>\n",
       "      <td>1.0</td>\n",
       "      <td>540.0</td>\n",
       "      <td>5000.000000</td>\n",
       "      <td>Furnished</td>\n",
       "      <td>Ready_to_move</td>\n",
       "      <td>New_Property</td>\n",
       "      <td>Apartment</td>\n",
       "      <td>Yamuna Vihar, Shahdara</td>\n",
       "      <td>2700000</td>\n",
       "    </tr>\n",
       "    <tr>\n",
       "      <th>341</th>\n",
       "      <td>1</td>\n",
       "      <td>2.0</td>\n",
       "      <td>1.0</td>\n",
       "      <td>70.0</td>\n",
       "      <td>5357.000000</td>\n",
       "      <td>Unfurnished</td>\n",
       "      <td>Ready_to_move</td>\n",
       "      <td>Resale</td>\n",
       "      <td>Apartment</td>\n",
       "      <td>Yamuna Vihar, Shahdara</td>\n",
       "      <td>4500000</td>\n",
       "    </tr>\n",
       "    <tr>\n",
       "      <th>1010</th>\n",
       "      <td>2</td>\n",
       "      <td>1.0</td>\n",
       "      <td>2.0</td>\n",
       "      <td>540.0</td>\n",
       "      <td>2778.000000</td>\n",
       "      <td>Unfurnished</td>\n",
       "      <td>Ready_to_move</td>\n",
       "      <td>Resale</td>\n",
       "      <td>Builder_Floor</td>\n",
       "      <td>Zakir Nagar, New Friends Colony</td>\n",
       "      <td>1500000</td>\n",
       "    </tr>\n",
       "    <tr>\n",
       "      <th>349</th>\n",
       "      <td>2</td>\n",
       "      <td>2.0</td>\n",
       "      <td>1.0</td>\n",
       "      <td>400.0</td>\n",
       "      <td>14550.000000</td>\n",
       "      <td>Furnished</td>\n",
       "      <td>Ready_to_move</td>\n",
       "      <td>Resale</td>\n",
       "      <td>Builder_Floor</td>\n",
       "      <td>mind. The space is airy, is well located and c...</td>\n",
       "      <td>9000000</td>\n",
       "    </tr>\n",
       "  </tbody>\n",
       "</table>\n",
       "<p>1176 rows × 11 columns</p>\n",
       "</div>"
      ],
      "text/plain": [
       "      BHK  Bathroom  Parking    Area      Per_Sqft      Furnishing  \\\n",
       "222     4       3.0      1.0  2700.0  22222.000000  Semi-Furnished   \n",
       "637     3       2.0      1.0  1550.0   8516.129032  Semi-Furnished   \n",
       "651     3       3.0      1.0  1700.0  10117.647059  Semi-Furnished   \n",
       "648     3       2.0      1.0  1380.0  10869.565217  Semi-Furnished   \n",
       "645     3       2.0      1.0  1850.0   8378.378378  Semi-Furnished   \n",
       "...   ...       ...      ...     ...           ...             ...   \n",
       "329     3       2.0      1.0   810.0   7407.407407  Semi-Furnished   \n",
       "331     2       1.0      1.0   540.0   5000.000000       Furnished   \n",
       "341     1       2.0      1.0    70.0   5357.000000     Unfurnished   \n",
       "1010    2       1.0      2.0   540.0   2778.000000     Unfurnished   \n",
       "349     2       2.0      1.0   400.0  14550.000000       Furnished   \n",
       "\n",
       "             Status   Transaction           Type  \\\n",
       "222   Ready_to_move  New_Property  Builder_Floor   \n",
       "637   Ready_to_move        Resale      Apartment   \n",
       "651   Ready_to_move        Resale      Apartment   \n",
       "648   Ready_to_move        Resale      Apartment   \n",
       "645   Ready_to_move        Resale      Apartment   \n",
       "...             ...           ...            ...   \n",
       "329   Ready_to_move        Resale  Builder_Floor   \n",
       "331   Ready_to_move  New_Property      Apartment   \n",
       "341   Ready_to_move        Resale      Apartment   \n",
       "1010  Ready_to_move        Resale  Builder_Floor   \n",
       "349   Ready_to_move        Resale  Builder_Floor   \n",
       "\n",
       "                                               Locality     Price  \n",
       "222                APL Builder Floor, Greater Kailash 1  60000000  \n",
       "637                            Aashirwaad Chowk, Dwarka  13200000  \n",
       "651                            Aashirwaad Chowk, Dwarka  17200000  \n",
       "648                            Aashirwaad Chowk, Dwarka  15000000  \n",
       "645                            Aashirwaad Chowk, Dwarka  15500000  \n",
       "...                                                 ...       ...  \n",
       "329                              Yamuna Vihar, Shahdara   6000000  \n",
       "331                              Yamuna Vihar, Shahdara   2700000  \n",
       "341                              Yamuna Vihar, Shahdara   4500000  \n",
       "1010                    Zakir Nagar, New Friends Colony   1500000  \n",
       "349   mind. The space is airy, is well located and c...   9000000  \n",
       "\n",
       "[1176 rows x 11 columns]"
      ]
     },
     "execution_count": 27,
     "metadata": {},
     "output_type": "execute_result"
    }
   ],
   "source": [
    "# Type and Furnishing are categorical data so median is not used here\n",
    "# sort the dataframe based on Locality and use method='bfill' to fill null values\n",
    "housing.sort_values(by=\"Locality\",axis=0,inplace=True)\n",
    "housing"
   ]
  },
  {
   "cell_type": "code",
   "execution_count": 28,
   "id": "5a410211",
   "metadata": {},
   "outputs": [
    {
     "name": "stderr",
     "output_type": "stream",
     "text": [
      "c:\\users\\shala\\appdata\\local\\programs\\python\\python39\\lib\\site-packages\\pandas\\core\\series.py:4463: SettingWithCopyWarning: \n",
      "A value is trying to be set on a copy of a slice from a DataFrame\n",
      "\n",
      "See the caveats in the documentation: https://pandas.pydata.org/pandas-docs/stable/user_guide/indexing.html#returning-a-view-versus-a-copy\n",
      "  return super().fillna(\n"
     ]
    }
   ],
   "source": [
    "housing[\"Type\"].fillna(method='bfill', inplace=True)\n",
    "housing[\"Furnishing\"].fillna(method='bfill', inplace=True)"
   ]
  },
  {
   "cell_type": "code",
   "execution_count": 29,
   "id": "f7ddf8b6",
   "metadata": {},
   "outputs": [
    {
     "data": {
      "text/html": [
       "<div>\n",
       "<style scoped>\n",
       "    .dataframe tbody tr th:only-of-type {\n",
       "        vertical-align: middle;\n",
       "    }\n",
       "\n",
       "    .dataframe tbody tr th {\n",
       "        vertical-align: top;\n",
       "    }\n",
       "\n",
       "    .dataframe thead th {\n",
       "        text-align: right;\n",
       "    }\n",
       "</style>\n",
       "<table border=\"1\" class=\"dataframe\">\n",
       "  <thead>\n",
       "    <tr style=\"text-align: right;\">\n",
       "      <th></th>\n",
       "      <th>BHK</th>\n",
       "      <th>Bathroom</th>\n",
       "      <th>Parking</th>\n",
       "      <th>Area</th>\n",
       "      <th>Per_Sqft</th>\n",
       "      <th>Furnishing</th>\n",
       "      <th>Status</th>\n",
       "      <th>Transaction</th>\n",
       "      <th>Type</th>\n",
       "      <th>Locality</th>\n",
       "      <th>Price</th>\n",
       "    </tr>\n",
       "  </thead>\n",
       "  <tbody>\n",
       "  </tbody>\n",
       "</table>\n",
       "</div>"
      ],
      "text/plain": [
       "Empty DataFrame\n",
       "Columns: [BHK, Bathroom, Parking, Area, Per_Sqft, Furnishing, Status, Transaction, Type, Locality, Price]\n",
       "Index: []"
      ]
     },
     "execution_count": 29,
     "metadata": {},
     "output_type": "execute_result"
    }
   ],
   "source": [
    "housing[housing['Type'].isnull()]"
   ]
  },
  {
   "cell_type": "code",
   "execution_count": 30,
   "id": "55d1d2f4",
   "metadata": {},
   "outputs": [
    {
     "data": {
      "text/html": [
       "<div>\n",
       "<style scoped>\n",
       "    .dataframe tbody tr th:only-of-type {\n",
       "        vertical-align: middle;\n",
       "    }\n",
       "\n",
       "    .dataframe tbody tr th {\n",
       "        vertical-align: top;\n",
       "    }\n",
       "\n",
       "    .dataframe thead th {\n",
       "        text-align: right;\n",
       "    }\n",
       "</style>\n",
       "<table border=\"1\" class=\"dataframe\">\n",
       "  <thead>\n",
       "    <tr style=\"text-align: right;\">\n",
       "      <th></th>\n",
       "      <th>BHK</th>\n",
       "      <th>Bathroom</th>\n",
       "      <th>Parking</th>\n",
       "      <th>Area</th>\n",
       "      <th>Per_Sqft</th>\n",
       "      <th>Furnishing</th>\n",
       "      <th>Status</th>\n",
       "      <th>Transaction</th>\n",
       "      <th>Type</th>\n",
       "      <th>Locality</th>\n",
       "      <th>Price</th>\n",
       "    </tr>\n",
       "  </thead>\n",
       "  <tbody>\n",
       "  </tbody>\n",
       "</table>\n",
       "</div>"
      ],
      "text/plain": [
       "Empty DataFrame\n",
       "Columns: [BHK, Bathroom, Parking, Area, Per_Sqft, Furnishing, Status, Transaction, Type, Locality, Price]\n",
       "Index: []"
      ]
     },
     "execution_count": 30,
     "metadata": {},
     "output_type": "execute_result"
    }
   ],
   "source": [
    "housing[housing['Furnishing'].isnull()]"
   ]
  },
  {
   "cell_type": "code",
   "execution_count": 31,
   "id": "f7e02c59",
   "metadata": {},
   "outputs": [
    {
     "name": "stdout",
     "output_type": "stream",
     "text": [
      "0    1.0\n",
      "dtype: float64\n"
     ]
    },
    {
     "name": "stderr",
     "output_type": "stream",
     "text": [
      "c:\\users\\shala\\appdata\\local\\programs\\python\\python39\\lib\\site-packages\\pandas\\core\\series.py:4463: SettingWithCopyWarning: \n",
      "A value is trying to be set on a copy of a slice from a DataFrame\n",
      "\n",
      "See the caveats in the documentation: https://pandas.pydata.org/pandas-docs/stable/user_guide/indexing.html#returning-a-view-versus-a-copy\n",
      "  return super().fillna(\n"
     ]
    }
   ],
   "source": [
    "# Parking\n",
    "mode_ = housing[\"Parking\"].mode()\n",
    "print(mode_)\n",
    "housing[\"Parking\"].fillna(value=mode_[0], inplace=True)"
   ]
  },
  {
   "cell_type": "code",
   "execution_count": 32,
   "id": "dd411ae3",
   "metadata": {},
   "outputs": [
    {
     "data": {
      "text/html": [
       "<div>\n",
       "<style scoped>\n",
       "    .dataframe tbody tr th:only-of-type {\n",
       "        vertical-align: middle;\n",
       "    }\n",
       "\n",
       "    .dataframe tbody tr th {\n",
       "        vertical-align: top;\n",
       "    }\n",
       "\n",
       "    .dataframe thead th {\n",
       "        text-align: right;\n",
       "    }\n",
       "</style>\n",
       "<table border=\"1\" class=\"dataframe\">\n",
       "  <thead>\n",
       "    <tr style=\"text-align: right;\">\n",
       "      <th></th>\n",
       "      <th>BHK</th>\n",
       "      <th>Bathroom</th>\n",
       "      <th>Parking</th>\n",
       "      <th>Area</th>\n",
       "      <th>Per_Sqft</th>\n",
       "      <th>Furnishing</th>\n",
       "      <th>Status</th>\n",
       "      <th>Transaction</th>\n",
       "      <th>Type</th>\n",
       "      <th>Locality</th>\n",
       "      <th>Price</th>\n",
       "    </tr>\n",
       "  </thead>\n",
       "  <tbody>\n",
       "  </tbody>\n",
       "</table>\n",
       "</div>"
      ],
      "text/plain": [
       "Empty DataFrame\n",
       "Columns: [BHK, Bathroom, Parking, Area, Per_Sqft, Furnishing, Status, Transaction, Type, Locality, Price]\n",
       "Index: []"
      ]
     },
     "execution_count": 32,
     "metadata": {},
     "output_type": "execute_result"
    }
   ],
   "source": [
    "housing[housing['Parking'].isnull()]"
   ]
  },
  {
   "cell_type": "code",
   "execution_count": 35,
   "id": "4f0fb802",
   "metadata": {},
   "outputs": [
    {
     "data": {
      "text/plain": [
       "BHK            0\n",
       "Bathroom       0\n",
       "Parking        0\n",
       "Area           0\n",
       "Per_Sqft       0\n",
       "Furnishing     0\n",
       "Status         0\n",
       "Transaction    0\n",
       "Type           0\n",
       "Locality       0\n",
       "Price          0\n",
       "dtype: int64"
      ]
     },
     "execution_count": 35,
     "metadata": {},
     "output_type": "execute_result"
    }
   ],
   "source": [
    "housing.isnull().sum()"
   ]
  },
  {
   "cell_type": "code",
   "execution_count": 36,
   "id": "e0dd0c95",
   "metadata": {},
   "outputs": [
    {
     "data": {
      "text/html": [
       "<div>\n",
       "<style scoped>\n",
       "    .dataframe tbody tr th:only-of-type {\n",
       "        vertical-align: middle;\n",
       "    }\n",
       "\n",
       "    .dataframe tbody tr th {\n",
       "        vertical-align: top;\n",
       "    }\n",
       "\n",
       "    .dataframe thead th {\n",
       "        text-align: right;\n",
       "    }\n",
       "</style>\n",
       "<table border=\"1\" class=\"dataframe\">\n",
       "  <thead>\n",
       "    <tr style=\"text-align: right;\">\n",
       "      <th></th>\n",
       "      <th>BHK</th>\n",
       "      <th>Bathroom</th>\n",
       "      <th>Parking</th>\n",
       "      <th>Area</th>\n",
       "      <th>Per_Sqft</th>\n",
       "      <th>Furnishing</th>\n",
       "      <th>Status</th>\n",
       "      <th>Transaction</th>\n",
       "      <th>Type</th>\n",
       "      <th>Locality</th>\n",
       "      <th>Price</th>\n",
       "    </tr>\n",
       "  </thead>\n",
       "  <tbody>\n",
       "    <tr>\n",
       "      <th>222</th>\n",
       "      <td>4</td>\n",
       "      <td>3.0</td>\n",
       "      <td>1.0</td>\n",
       "      <td>2700.0</td>\n",
       "      <td>22222.000000</td>\n",
       "      <td>Semi-Furnished</td>\n",
       "      <td>Ready_to_move</td>\n",
       "      <td>New_Property</td>\n",
       "      <td>Builder_Floor</td>\n",
       "      <td>APL Builder Floor, Greater Kailash 1</td>\n",
       "      <td>60000000</td>\n",
       "    </tr>\n",
       "    <tr>\n",
       "      <th>637</th>\n",
       "      <td>3</td>\n",
       "      <td>2.0</td>\n",
       "      <td>1.0</td>\n",
       "      <td>1550.0</td>\n",
       "      <td>8516.129032</td>\n",
       "      <td>Semi-Furnished</td>\n",
       "      <td>Ready_to_move</td>\n",
       "      <td>Resale</td>\n",
       "      <td>Apartment</td>\n",
       "      <td>Aashirwaad Chowk, Dwarka</td>\n",
       "      <td>13200000</td>\n",
       "    </tr>\n",
       "    <tr>\n",
       "      <th>651</th>\n",
       "      <td>3</td>\n",
       "      <td>3.0</td>\n",
       "      <td>1.0</td>\n",
       "      <td>1700.0</td>\n",
       "      <td>10117.647059</td>\n",
       "      <td>Semi-Furnished</td>\n",
       "      <td>Ready_to_move</td>\n",
       "      <td>Resale</td>\n",
       "      <td>Apartment</td>\n",
       "      <td>Aashirwaad Chowk, Dwarka</td>\n",
       "      <td>17200000</td>\n",
       "    </tr>\n",
       "    <tr>\n",
       "      <th>648</th>\n",
       "      <td>3</td>\n",
       "      <td>2.0</td>\n",
       "      <td>1.0</td>\n",
       "      <td>1380.0</td>\n",
       "      <td>10869.565217</td>\n",
       "      <td>Semi-Furnished</td>\n",
       "      <td>Ready_to_move</td>\n",
       "      <td>Resale</td>\n",
       "      <td>Apartment</td>\n",
       "      <td>Aashirwaad Chowk, Dwarka</td>\n",
       "      <td>15000000</td>\n",
       "    </tr>\n",
       "    <tr>\n",
       "      <th>645</th>\n",
       "      <td>3</td>\n",
       "      <td>2.0</td>\n",
       "      <td>1.0</td>\n",
       "      <td>1850.0</td>\n",
       "      <td>8378.378378</td>\n",
       "      <td>Semi-Furnished</td>\n",
       "      <td>Ready_to_move</td>\n",
       "      <td>Resale</td>\n",
       "      <td>Apartment</td>\n",
       "      <td>Aashirwaad Chowk, Dwarka</td>\n",
       "      <td>15500000</td>\n",
       "    </tr>\n",
       "  </tbody>\n",
       "</table>\n",
       "</div>"
      ],
      "text/plain": [
       "     BHK  Bathroom  Parking    Area      Per_Sqft      Furnishing  \\\n",
       "222    4       3.0      1.0  2700.0  22222.000000  Semi-Furnished   \n",
       "637    3       2.0      1.0  1550.0   8516.129032  Semi-Furnished   \n",
       "651    3       3.0      1.0  1700.0  10117.647059  Semi-Furnished   \n",
       "648    3       2.0      1.0  1380.0  10869.565217  Semi-Furnished   \n",
       "645    3       2.0      1.0  1850.0   8378.378378  Semi-Furnished   \n",
       "\n",
       "            Status   Transaction           Type  \\\n",
       "222  Ready_to_move  New_Property  Builder_Floor   \n",
       "637  Ready_to_move        Resale      Apartment   \n",
       "651  Ready_to_move        Resale      Apartment   \n",
       "648  Ready_to_move        Resale      Apartment   \n",
       "645  Ready_to_move        Resale      Apartment   \n",
       "\n",
       "                                 Locality     Price  \n",
       "222  APL Builder Floor, Greater Kailash 1  60000000  \n",
       "637              Aashirwaad Chowk, Dwarka  13200000  \n",
       "651              Aashirwaad Chowk, Dwarka  17200000  \n",
       "648              Aashirwaad Chowk, Dwarka  15000000  \n",
       "645              Aashirwaad Chowk, Dwarka  15500000  "
      ]
     },
     "execution_count": 36,
     "metadata": {},
     "output_type": "execute_result"
    }
   ],
   "source": [
    "housing.head()\n",
    "# need to do one hot encoding on Furnishing Status Transaction Type Locality"
   ]
  },
  {
   "cell_type": "code",
   "execution_count": null,
   "id": "d21f8942",
   "metadata": {},
   "outputs": [],
   "source": []
  }
 ],
 "metadata": {
  "kernelspec": {
   "display_name": "Python 3",
   "language": "python",
   "name": "python3"
  },
  "language_info": {
   "codemirror_mode": {
    "name": "ipython",
    "version": 3
   },
   "file_extension": ".py",
   "mimetype": "text/x-python",
   "name": "python",
   "nbconvert_exporter": "python",
   "pygments_lexer": "ipython3",
   "version": "3.9.3"
  }
 },
 "nbformat": 4,
 "nbformat_minor": 5
}
